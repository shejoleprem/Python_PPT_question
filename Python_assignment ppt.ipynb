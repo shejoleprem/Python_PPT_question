{
 "cells": [
  {
   "cell_type": "code",
   "execution_count": 1,
   "id": "dd7e296f",
   "metadata": {},
   "outputs": [],
   "source": [
    "#Q1 Write a Python program to reverse a string without using any built-in string reversal functions"
   ]
  },
  {
   "cell_type": "code",
   "execution_count": 1,
   "id": "b95cff15",
   "metadata": {},
   "outputs": [
    {
     "data": {
      "text/plain": [
       "['P', 'r', 'e', 'm', ' ', 'S', 'h', 'e', 'j', 'o', 'l', 'e']"
      ]
     },
     "execution_count": 1,
     "metadata": {},
     "output_type": "execute_result"
    }
   ],
   "source": [
    "str=\"Prem Shejole\"\n",
    "lis=list(str)\n",
    "lis"
   ]
  },
  {
   "cell_type": "code",
   "execution_count": 6,
   "id": "519ef643",
   "metadata": {},
   "outputs": [
    {
     "data": {
      "text/plain": [
       "['e', 'l', 'o', 'j', 'e', 'h', 'S', ' ', 'm', 'e', 'r', 'P']"
      ]
     },
     "execution_count": 6,
     "metadata": {},
     "output_type": "execute_result"
    }
   ],
   "source": [
    "i=len(str)-1\n",
    "lis2=[]\n",
    "while (i>=0):\n",
    "    lis2.append(lis[i])\n",
    "    i=i-1\n",
    "\n",
    "lis2"
   ]
  },
  {
   "cell_type": "code",
   "execution_count": 7,
   "id": "44a121ac",
   "metadata": {},
   "outputs": [],
   "source": [
    "# Q2 Implement a function to check if a given string is a palindrome."
   ]
  },
  {
   "cell_type": "code",
   "execution_count": 14,
   "id": "efe9c24e",
   "metadata": {},
   "outputs": [],
   "source": [
    "def palin(str):\n",
    "    lis2=[]\n",
    "    i=len(str)-1\n",
    "    lis1=list(str)\n",
    "    while (i>=0):\n",
    "        lis2.append(lis1[i])\n",
    "        i=i-1\n",
    "    print(lis1)\n",
    "    print(lis2)\n",
    "    if lis1==lis2:\n",
    "        return True\n",
    "    else:\n",
    "        return False"
   ]
  },
  {
   "cell_type": "code",
   "execution_count": 15,
   "id": "648495ec",
   "metadata": {},
   "outputs": [
    {
     "name": "stdout",
     "output_type": "stream",
     "text": [
      "['n', 'a', 'm', 'a', 'n']\n",
      "['n', 'a', 'm', 'a', 'n']\n"
     ]
    },
    {
     "data": {
      "text/plain": [
       "True"
      ]
     },
     "execution_count": 15,
     "metadata": {},
     "output_type": "execute_result"
    }
   ],
   "source": [
    "palin(\"naman\")"
   ]
  },
  {
   "cell_type": "code",
   "execution_count": 16,
   "id": "1ace8371",
   "metadata": {},
   "outputs": [],
   "source": [
    "#Q3 Write a program to find the largest element in a given list."
   ]
  },
  {
   "cell_type": "code",
   "execution_count": 18,
   "id": "6fafe331",
   "metadata": {},
   "outputs": [
    {
     "name": "stdout",
     "output_type": "stream",
     "text": [
      "9\n"
     ]
    }
   ],
   "source": [
    "l=[1,5,4,6,9,2,3]\n",
    "print(max(l))"
   ]
  },
  {
   "cell_type": "code",
   "execution_count": 19,
   "id": "ca59ba74",
   "metadata": {},
   "outputs": [],
   "source": [
    "#Q4 Implement a function to count the occurrence of each element in a list."
   ]
  },
  {
   "cell_type": "code",
   "execution_count": 5,
   "id": "22f12044",
   "metadata": {},
   "outputs": [],
   "source": [
    "list=[1,4,5,6,4,6,1,1]\n",
    "def dupli(lis):\n",
    "    lis=sorted(lis)\n",
    "    lis\n",
    "    i=1\n",
    "    count=1\n",
    "    while i<len(lis):\n",
    "        if lis[i]==lis[i-1]:\n",
    "            count=count+1\n",
    "            i=i+1\n",
    "        else:\n",
    "            print(lis[i-1],count)\n",
    "            count=1\n",
    "            i=i+1\n",
    "    \n"
   ]
  },
  {
   "cell_type": "code",
   "execution_count": 6,
   "id": "84fc2b3b",
   "metadata": {},
   "outputs": [
    {
     "name": "stdout",
     "output_type": "stream",
     "text": [
      "1 3\n",
      "4 2\n",
      "5 1\n"
     ]
    }
   ],
   "source": [
    "dupli(list)"
   ]
  },
  {
   "cell_type": "code",
   "execution_count": 21,
   "id": "9a8548ab",
   "metadata": {},
   "outputs": [
    {
     "name": "stdout",
     "output_type": "stream",
     "text": [
      "second largest element is 6\n"
     ]
    }
   ],
   "source": [
    "#Q5 Write a Python program to find the second largest number in a list.\n",
    "list1=[10,1,4,5,6,4,6,1,1]\n",
    "l1=tuple(set(list1))\n",
    "i=len(l1)-1\n",
    "print(f\"second largest element is {l1[i-1]}\")"
   ]
  },
  {
   "cell_type": "code",
   "execution_count": 3,
   "id": "f2bb70ad",
   "metadata": {},
   "outputs": [
    {
     "data": {
      "text/plain": [
       "{1, 4, 5, 6, 10}"
      ]
     },
     "execution_count": 3,
     "metadata": {},
     "output_type": "execute_result"
    }
   ],
   "source": [
    "#Q6  function to remove duplicate elements from a list.\n",
    "list1=[10,1,4,5,6,4,6,1,1]\n",
    "lis=set(list1)\n",
    "lis\n",
    "            "
   ]
  },
  {
   "cell_type": "code",
   "execution_count": 4,
   "id": "bee7b22e",
   "metadata": {},
   "outputs": [
    {
     "data": {
      "text/plain": [
       "{1, 4, 5, 6, 10}"
      ]
     },
     "execution_count": 4,
     "metadata": {},
     "output_type": "execute_result"
    }
   ],
   "source": [
    "lis"
   ]
  },
  {
   "cell_type": "code",
   "execution_count": 6,
   "id": "a8b22807",
   "metadata": {},
   "outputs": [],
   "source": [
    "#Q7 Write a program to calculate the factorial of a given number.\n",
    "\n",
    "def fact(n):\n",
    "    if(n==0 or n==1):\n",
    "        return 1\n",
    "    return n*fact(n-1)"
   ]
  },
  {
   "cell_type": "code",
   "execution_count": 8,
   "id": "303f87d1",
   "metadata": {},
   "outputs": [
    {
     "data": {
      "text/plain": [
       "24"
      ]
     },
     "execution_count": 8,
     "metadata": {},
     "output_type": "execute_result"
    }
   ],
   "source": [
    "fact(4)"
   ]
  },
  {
   "cell_type": "code",
   "execution_count": 11,
   "id": "d48ebba1",
   "metadata": {},
   "outputs": [],
   "source": [
    "#Q8 Implement a function to check if a given number is prime.\n",
    "\n",
    "def isprime(n):\n",
    "    if(n==0 or n==1):\n",
    "        return True\n",
    "    elif(n%2==0):\n",
    "        return True\n",
    "    else:\n",
    "        return False"
   ]
  },
  {
   "cell_type": "code",
   "execution_count": 12,
   "id": "79406332",
   "metadata": {},
   "outputs": [
    {
     "data": {
      "text/plain": [
       "False"
      ]
     },
     "execution_count": 12,
     "metadata": {},
     "output_type": "execute_result"
    }
   ],
   "source": [
    "isprime(9)"
   ]
  },
  {
   "cell_type": "code",
   "execution_count": 3,
   "id": "04840fad",
   "metadata": {},
   "outputs": [],
   "source": [
    "#Q9 Write a Python program to sort a list of integers in ascending order.\n",
    "#bubble sort\n",
    "list1=[10,1,4,5,6,4,6,1,1]\n",
    "\n",
    "for i in range(len(list1)):\n",
    "    j=1\n",
    "    while j<len(list1):\n",
    "        if list1[j-1]>list1[j]:\n",
    "            temp=list1[j-1]\n",
    "            list1[j-1]=list1[j]\n",
    "            list1[j]=temp\n",
    "        j=j+1\n",
    "    \n",
    "        "
   ]
  },
  {
   "cell_type": "code",
   "execution_count": 4,
   "id": "57b9cf33",
   "metadata": {},
   "outputs": [
    {
     "data": {
      "text/plain": [
       "[1, 1, 1, 4, 4, 5, 6, 6, 10]"
      ]
     },
     "execution_count": 4,
     "metadata": {},
     "output_type": "execute_result"
    }
   ],
   "source": [
    "list1"
   ]
  },
  {
   "cell_type": "code",
   "execution_count": 5,
   "id": "4362d648",
   "metadata": {},
   "outputs": [],
   "source": [
    "#Q10  Implement a function to find the sum of all numbers in a list.\n",
    "list1=[10,1,4,5,6,4,6,1,1]\n",
    "sum=0\n",
    "for i in list1:\n",
    "    sum=sum+i"
   ]
  },
  {
   "cell_type": "code",
   "execution_count": 6,
   "id": "23801ba8",
   "metadata": {},
   "outputs": [
    {
     "data": {
      "text/plain": [
       "38"
      ]
     },
     "execution_count": 6,
     "metadata": {},
     "output_type": "execute_result"
    }
   ],
   "source": [
    "sum"
   ]
  },
  {
   "cell_type": "code",
   "execution_count": 7,
   "id": "efe736e9",
   "metadata": {},
   "outputs": [],
   "source": [
    "# Q11 Write a program to find the common elements between two lists.\n",
    "l1=[1,5,6,7,8,9,1]\n",
    "l2=[6,1,11,10,8,9]\n",
    "ans=[]\n",
    "\n",
    "for i in range(len(l1)):\n",
    "    for j in range(len(l2)):\n",
    "        if l1[i]==l2[j]:\n",
    "            ans.append(l1[i])"
   ]
  },
  {
   "cell_type": "code",
   "execution_count": 8,
   "id": "d62c4cf0",
   "metadata": {},
   "outputs": [
    {
     "data": {
      "text/plain": [
       "[1, 6, 8, 9, 1]"
      ]
     },
     "execution_count": 8,
     "metadata": {},
     "output_type": "execute_result"
    }
   ],
   "source": [
    "ans"
   ]
  },
  {
   "cell_type": "code",
   "execution_count": 9,
   "id": "520ba1ce",
   "metadata": {},
   "outputs": [
    {
     "data": {
      "text/plain": [
       "{1, 6, 8, 9}"
      ]
     },
     "execution_count": 9,
     "metadata": {},
     "output_type": "execute_result"
    }
   ],
   "source": [
    "set(ans)"
   ]
  },
  {
   "cell_type": "code",
   "execution_count": 11,
   "id": "77e790e1",
   "metadata": {},
   "outputs": [
    {
     "data": {
      "text/plain": [
       "True"
      ]
     },
     "execution_count": 11,
     "metadata": {},
     "output_type": "execute_result"
    }
   ],
   "source": [
    "#Q12 . Implement a function to check if a given string is an anagram of another string.\n",
    "\n",
    "def is_anagram(string_1, string_2):\n",
    "  if len(string_1) != len(string_2):\n",
    "    return False\n",
    "\n",
    "  character_counts = {}\n",
    "  for character in string_1:\n",
    "    if character in character_counts:\n",
    "      character_counts[character] += 1\n",
    "    else:\n",
    "      character_counts[character] = 1\n",
    "\n",
    "  for character in string_2:\n",
    "    if character not in character_counts:\n",
    "      return False\n",
    "    else:\n",
    "      character_counts[character] -= 1\n",
    "\n",
    "  for count in character_counts.values():\n",
    "    if count != 0:\n",
    "      return False\n",
    "\n",
    "  return True\n",
    "\n",
    "is_anagram(\"naman\",\"naman\")"
   ]
  },
  {
   "cell_type": "code",
   "execution_count": 12,
   "id": "e001e4f8",
   "metadata": {},
   "outputs": [],
   "source": [
    "# Q13 Write a Python program to generate all permutations of a given string.\n",
    "def permutations(string):\n",
    "  if len(string) == 0:\n",
    "    return ['']\n",
    "  else:\n",
    "    permutations_list = []\n",
    "    for i in range(len(string)):\n",
    "      remaining_string = string[:i] + string[i + 1:]\n",
    "      permutations_of_remaining_string = permutations(remaining_string)\n",
    "      for permutation in permutations_of_remaining_string:\n",
    "        permutations_list.append(string[i] + permutation)\n",
    "    return permutations_list"
   ]
  },
  {
   "cell_type": "code",
   "execution_count": 14,
   "id": "b2ba2f86",
   "metadata": {},
   "outputs": [
    {
     "data": {
      "text/plain": [
       "['prem',\n",
       " 'prme',\n",
       " 'perm',\n",
       " 'pemr',\n",
       " 'pmre',\n",
       " 'pmer',\n",
       " 'rpem',\n",
       " 'rpme',\n",
       " 'repm',\n",
       " 'remp',\n",
       " 'rmpe',\n",
       " 'rmep',\n",
       " 'eprm',\n",
       " 'epmr',\n",
       " 'erpm',\n",
       " 'ermp',\n",
       " 'empr',\n",
       " 'emrp',\n",
       " 'mpre',\n",
       " 'mper',\n",
       " 'mrpe',\n",
       " 'mrep',\n",
       " 'mepr',\n",
       " 'merp']"
      ]
     },
     "execution_count": 14,
     "metadata": {},
     "output_type": "execute_result"
    }
   ],
   "source": [
    "permutations(\"prem\")"
   ]
  },
  {
   "cell_type": "code",
   "execution_count": 15,
   "id": "17eef79e",
   "metadata": {},
   "outputs": [],
   "source": [
    "# Q14 Implement a function to calculate the Fibonacci sequence up to a given number of terms\n",
    "def fibonacci(n):\n",
    "  if n == 0:\n",
    "    return [0]\n",
    "  elif n == 1:\n",
    "    return [0, 1]\n",
    "  else:\n",
    "    fibonacci_sequence = [0, 1]\n",
    "    for i in range(2, n):\n",
    "      fibonacci_sequence.append(fibonacci_sequence[i - 1] + fibonacci_sequence[i - 2])\n",
    "    return fibonacci_sequence"
   ]
  },
  {
   "cell_type": "code",
   "execution_count": 17,
   "id": "54326cb9",
   "metadata": {},
   "outputs": [
    {
     "data": {
      "text/plain": [
       "[0, 1, 1, 2, 3, 5, 8, 13, 21, 34]"
      ]
     },
     "execution_count": 17,
     "metadata": {},
     "output_type": "execute_result"
    }
   ],
   "source": [
    "fibonacci(10)"
   ]
  },
  {
   "cell_type": "code",
   "execution_count": 18,
   "id": "7c5e04d3",
   "metadata": {},
   "outputs": [],
   "source": [
    "# Q15  Write a program to find the median of a list of numbers.\n",
    "def median(numbers):\n",
    "  numbers.sort()\n",
    "  length = len(numbers)\n",
    "  if length % 2 == 0:\n",
    "    median = (numbers[length // 2] + numbers[length // 2 - 1]) / 2\n",
    "  else:\n",
    "    median = numbers[length // 2]\n",
    "  return median"
   ]
  },
  {
   "cell_type": "code",
   "execution_count": 19,
   "id": "40630cc8",
   "metadata": {},
   "outputs": [
    {
     "data": {
      "text/plain": [
       "3"
      ]
     },
     "execution_count": 19,
     "metadata": {},
     "output_type": "execute_result"
    }
   ],
   "source": [
    "list=[1, 3, 2, 5, 4]\n",
    "median(list)"
   ]
  },
  {
   "cell_type": "code",
   "execution_count": 20,
   "id": "0cd1613b",
   "metadata": {},
   "outputs": [],
   "source": [
    "# Q16 Implement a function to check if a given list is sorted in non-decreasing order.\n",
    "def is_sorted(numbers):\n",
    "  for i in range(len(numbers) - 1):\n",
    "    if numbers[i] > numbers[i + 1]:\n",
    "      return False\n",
    "  return True"
   ]
  },
  {
   "cell_type": "code",
   "execution_count": 21,
   "id": "6c9efaa4",
   "metadata": {},
   "outputs": [
    {
     "data": {
      "text/plain": [
       "True"
      ]
     },
     "execution_count": 21,
     "metadata": {},
     "output_type": "execute_result"
    }
   ],
   "source": [
    "l1=[1,2,3,4,5,6,7]\n",
    "is_sorted(l1)"
   ]
  },
  {
   "cell_type": "code",
   "execution_count": 22,
   "id": "b8072fff",
   "metadata": {},
   "outputs": [],
   "source": [
    "# Q17 Write a Python program to find the intersection of two lists.\n",
    "def intersection(list1, list2):\n",
    "  intersection_list = []\n",
    "  for element in list1:\n",
    "    if element in list2:\n",
    "      intersection_list.append(element)\n",
    "  return intersection_list"
   ]
  },
  {
   "cell_type": "code",
   "execution_count": 25,
   "id": "9d634671",
   "metadata": {},
   "outputs": [
    {
     "data": {
      "text/plain": [
       "[1, 3, 5]"
      ]
     },
     "execution_count": 25,
     "metadata": {},
     "output_type": "execute_result"
    }
   ],
   "source": [
    "l1=[1,3,5,6,2]\n",
    "l2=[5,3,1,10,11]\n",
    "intersection(l1,l2)"
   ]
  },
  {
   "cell_type": "code",
   "execution_count": 26,
   "id": "f5e2cea9",
   "metadata": {},
   "outputs": [],
   "source": [
    "# Q18 Implement a function to find the maximum subarray sum in a given list\n",
    "def max_subarray_sum(numbers):\n",
    "  max_ending_here = 0\n",
    "  max_so_far = float(\"-inf\")\n",
    "  for number in numbers:\n",
    "    max_ending_here = max(max_ending_here + number, number)\n",
    "    max_so_far = max(max_so_far, max_ending_here)\n",
    "  return max_so_far"
   ]
  },
  {
   "cell_type": "code",
   "execution_count": 27,
   "id": "88ffbde5",
   "metadata": {},
   "outputs": [
    {
     "data": {
      "text/plain": [
       "6"
      ]
     },
     "execution_count": 27,
     "metadata": {},
     "output_type": "execute_result"
    }
   ],
   "source": [
    "numbers = [1, 2, -3, 4, -1, 2, 1, -5, 4]\n",
    "max_subarray_sum(numbers)"
   ]
  },
  {
   "cell_type": "code",
   "execution_count": 28,
   "id": "9ac67c0b",
   "metadata": {},
   "outputs": [],
   "source": [
    "# Q19 Write a program to remove all vowels from a given string.\n",
    "str=\"elephant\"\n",
    "l1=['a','e','i','o','u']\n",
    "ans=\"\"\n",
    "for i in str:\n",
    "    if i in l1:\n",
    "        continue\n",
    "    else:\n",
    "        ans+=i"
   ]
  },
  {
   "cell_type": "code",
   "execution_count": 29,
   "id": "e7bfc71d",
   "metadata": {},
   "outputs": [
    {
     "data": {
      "text/plain": [
       "'lphnt'"
      ]
     },
     "execution_count": 29,
     "metadata": {},
     "output_type": "execute_result"
    }
   ],
   "source": [
    "ans"
   ]
  },
  {
   "cell_type": "code",
   "execution_count": 30,
   "id": "2f94fe39",
   "metadata": {},
   "outputs": [],
   "source": [
    "# Q20 Implement a function to reverse the order of words in a given sentence\n",
    "def reverse_words(sentence):\n",
    "  words = sentence.split(\" \")\n",
    "  reversed_words = words[::-1]\n",
    "  reversed_sentence = \" \".join(reversed_words)\n",
    "  return reversed_sentence"
   ]
  },
  {
   "cell_type": "code",
   "execution_count": 31,
   "id": "510a7bf4",
   "metadata": {},
   "outputs": [
    {
     "data": {
      "text/plain": [
       "'you? are how hii,'"
      ]
     },
     "execution_count": 31,
     "metadata": {},
     "output_type": "execute_result"
    }
   ],
   "source": [
    "reverse_words(\"hii, how are you?\")"
   ]
  },
  {
   "cell_type": "code",
   "execution_count": 32,
   "id": "948f794e",
   "metadata": {},
   "outputs": [
    {
     "data": {
      "text/plain": [
       "True"
      ]
     },
     "execution_count": 32,
     "metadata": {},
     "output_type": "execute_result"
    }
   ],
   "source": [
    "#21 Write a Python program to check if two strings are anagrams of each other.\n",
    "def is_anagram(string_1, string_2):\n",
    "  if len(string_1) != len(string_2):\n",
    "    return False\n",
    "\n",
    "  character_counts = {}\n",
    "  for character in string_1:\n",
    "    if character in character_counts:\n",
    "      character_counts[character] += 1\n",
    "    else:\n",
    "      character_counts[character] = 1\n",
    "\n",
    "  for character in string_2:\n",
    "    if character not in character_counts:\n",
    "      return False\n",
    "    else:\n",
    "      character_counts[character] -= 1\n",
    "\n",
    "  for count in character_counts.values():\n",
    "    if count != 0:\n",
    "      return False\n",
    "\n",
    "  return True\n",
    "\n",
    "is_anagram(\"naman\",\"naman\")"
   ]
  },
  {
   "cell_type": "code",
   "execution_count": 33,
   "id": "d88ed8ba",
   "metadata": {},
   "outputs": [],
   "source": [
    "#Q22  Implement a function to find the first non-repeating character in a string.\n",
    "\n",
    "def first_non_repeating_character(string):\n",
    "  \n",
    "  char_counts = {}\n",
    "  for character in string:\n",
    "    if character in char_counts:\n",
    "      char_counts[character] += 1\n",
    "    else:\n",
    "      char_counts[character] = 1\n",
    "\n",
    "  for character in string:\n",
    "    if char_counts[character] == 1:\n",
    "      return character\n",
    "\n",
    "  return None"
   ]
  },
  {
   "cell_type": "code",
   "execution_count": 34,
   "id": "e2a872ff",
   "metadata": {},
   "outputs": [
    {
     "data": {
      "text/plain": [
       "'l'"
      ]
     },
     "execution_count": 34,
     "metadata": {},
     "output_type": "execute_result"
    }
   ],
   "source": [
    "first_non_repeating_character(\"elephant\")"
   ]
  },
  {
   "cell_type": "code",
   "execution_count": 35,
   "id": "fb0ac5b3",
   "metadata": {},
   "outputs": [
    {
     "data": {
      "text/plain": [
       "120"
      ]
     },
     "execution_count": 35,
     "metadata": {},
     "output_type": "execute_result"
    }
   ],
   "source": [
    "#Q23 Write a program to find the prime factors of a given number.\n",
    "\n",
    "\n",
    "def fact(n):\n",
    "    if(n==0 or n==1):\n",
    "        return 1\n",
    "    return n*fact(n-1)\n",
    "\n",
    "fact(5)"
   ]
  },
  {
   "cell_type": "code",
   "execution_count": 36,
   "id": "f888e507",
   "metadata": {},
   "outputs": [],
   "source": [
    "#Q24 Implement a function to check if a given number is a power of two.\n",
    "def is_power_of_two(number):\n",
    "\n",
    "  if number <= 0:\n",
    "    return False\n",
    "  while number % 2 == 0:\n",
    "    number //= 2\n",
    "  return number == 1"
   ]
  },
  {
   "cell_type": "code",
   "execution_count": 39,
   "id": "9d718ff8",
   "metadata": {},
   "outputs": [
    {
     "data": {
      "text/plain": [
       "True"
      ]
     },
     "execution_count": 39,
     "metadata": {},
     "output_type": "execute_result"
    }
   ],
   "source": [
    " is_power_of_two(4)"
   ]
  },
  {
   "cell_type": "code",
   "execution_count": 40,
   "id": "0ce45e8a",
   "metadata": {},
   "outputs": [],
   "source": [
    "#Q25 Write a Python program to merge two sorted lists into a single sorted list.\n",
    "l1=[1,2,3,4,5,6]\n",
    "l2=[7,8,9,10,11,12]\n",
    "l1.extend(l2)"
   ]
  },
  {
   "cell_type": "code",
   "execution_count": 43,
   "id": "56108454",
   "metadata": {},
   "outputs": [
    {
     "data": {
      "text/plain": [
       "[1, 2, 3, 4, 5, 6, 7, 8, 9, 10, 11, 12]"
      ]
     },
     "execution_count": 43,
     "metadata": {},
     "output_type": "execute_result"
    }
   ],
   "source": [
    "l1"
   ]
  },
  {
   "cell_type": "code",
   "execution_count": 44,
   "id": "ba83f2cc",
   "metadata": {},
   "outputs": [],
   "source": [
    "#Q26 . Implement a function to find the mode of a list of numbers.\n",
    "def mode(numbers):\n",
    "  mode_count = 0\n",
    "  mode_number = None\n",
    "  for number in numbers:\n",
    "    count = numbers.count(number)\n",
    "    if count > mode_count:\n",
    "      mode_count = count\n",
    "      mode_number = number\n",
    "  return mode_number"
   ]
  },
  {
   "cell_type": "code",
   "execution_count": 45,
   "id": "943dbd74",
   "metadata": {},
   "outputs": [
    {
     "data": {
      "text/plain": [
       "1"
      ]
     },
     "execution_count": 45,
     "metadata": {},
     "output_type": "execute_result"
    }
   ],
   "source": [
    "list1=[10,1,4,5,6,4,6,1,1]\n",
    "mode(list1)"
   ]
  },
  {
   "cell_type": "code",
   "execution_count": 46,
   "id": "a9f6ea01",
   "metadata": {},
   "outputs": [],
   "source": [
    "#Q27 Write a program to find the greatest common divisor (GCD) of two numbers.\n",
    "\n",
    "def gcd(number_1, number_2):\n",
    "  if number_1 < number_2:\n",
    "    smaller_number = number_1\n",
    "    larger_number = number_2\n",
    "  else:\n",
    "    smaller_number = number_2\n",
    "    larger_number = number_1\n",
    "\n",
    "  while smaller_number > 0:\n",
    "    remainder = larger_number % smaller_number\n",
    "    if remainder == 0:\n",
    "      return smaller_number\n",
    "    else:\n",
    "      larger_number = smaller_number\n",
    "      smaller_number = remainder\n",
    "\n",
    "  return None"
   ]
  },
  {
   "cell_type": "code",
   "execution_count": 47,
   "id": "4e179c78",
   "metadata": {},
   "outputs": [
    {
     "data": {
      "text/plain": [
       "5"
      ]
     },
     "execution_count": 47,
     "metadata": {},
     "output_type": "execute_result"
    }
   ],
   "source": [
    "gcd(10,15)"
   ]
  },
  {
   "cell_type": "code",
   "execution_count": 48,
   "id": "b617a8c3",
   "metadata": {},
   "outputs": [],
   "source": [
    "# Q28  Implement a function to calculate the square root of a given number.\n",
    "def square_root(number):\n",
    "  low = 0\n",
    "  high = number\n",
    "  while low <= high:\n",
    "    mid = (low + high) // 2\n",
    "    square = mid * mid\n",
    "    if square == number:\n",
    "      return mid\n",
    "    elif square < number:\n",
    "      low = mid + 1\n",
    "    else:\n",
    "      high = mid - 1\n",
    "  return None"
   ]
  },
  {
   "cell_type": "code",
   "execution_count": 49,
   "id": "1e3bc9c7",
   "metadata": {},
   "outputs": [
    {
     "data": {
      "text/plain": [
       "5"
      ]
     },
     "execution_count": 49,
     "metadata": {},
     "output_type": "execute_result"
    }
   ],
   "source": [
    "square_root(25)"
   ]
  },
  {
   "cell_type": "code",
   "execution_count": 59,
   "id": "ad9afec7",
   "metadata": {},
   "outputs": [],
   "source": [
    "#29 Write a Python program to check if a given string is a valid palindrome ignoring non-alphanumeric characters.\n",
    "import re\n",
    "\n",
    "def is_palindrome(string):\n",
    "  filtered_string = \"\".join(c for c in string if c.isalnum())\n",
    "  reversed_string = filtered_string[::-1]\n",
    "  return filtered_string == reversed_string"
   ]
  },
  {
   "cell_type": "code",
   "execution_count": 60,
   "id": "724c56b2",
   "metadata": {},
   "outputs": [
    {
     "data": {
      "text/plain": [
       "False"
      ]
     },
     "execution_count": 60,
     "metadata": {},
     "output_type": "execute_result"
    }
   ],
   "source": [
    "is_palindrome(\"A man, a plan, a canal: Panama\")"
   ]
  },
  {
   "cell_type": "code",
   "execution_count": 61,
   "id": "a64629af",
   "metadata": {},
   "outputs": [],
   "source": [
    "#30 Implement a function to find the minimum element in a rotated sorted list.\n",
    "# binary search\n",
    "def find_minimum_element(list):\n",
    "  low = 0\n",
    "  high = len(list) - 1\n",
    "  while low <= high:\n",
    "    mid = (low + high) // 2\n",
    "    if list[mid] < list[high]:\n",
    "      return list[mid]\n",
    "    elif list[mid] > list[high]:\n",
    "      low = mid + 1\n",
    "    else:\n",
    "      high -= 1\n",
    "  return None"
   ]
  },
  {
   "cell_type": "code",
   "execution_count": 64,
   "id": "e90c285e",
   "metadata": {},
   "outputs": [
    {
     "data": {
      "text/plain": [
       "9"
      ]
     },
     "execution_count": 64,
     "metadata": {},
     "output_type": "execute_result"
    }
   ],
   "source": [
    "find_minimum_element([7,8,9,10,11,12])"
   ]
  },
  {
   "cell_type": "code",
   "execution_count": 69,
   "id": "8d095394",
   "metadata": {},
   "outputs": [],
   "source": [
    "#Q31 Write a program to find the sum of all even numbers in a list.\n",
    "\n",
    "def sum_of_even_numbers(list):\n",
    "  sum_of_even_numbers = 0\n",
    "  for number in list:\n",
    "    if number % 2 == 0:\n",
    "      sum_of_even_numbers += number\n",
    "  return sum_of_even_numbers"
   ]
  },
  {
   "cell_type": "code",
   "execution_count": 70,
   "id": "52eb9b69",
   "metadata": {},
   "outputs": [
    {
     "data": {
      "text/plain": [
       "30"
      ]
     },
     "execution_count": 70,
     "metadata": {},
     "output_type": "execute_result"
    }
   ],
   "source": [
    "l1=[10,1,4,5,6,4,6,1,1]\n",
    "sum_of_even_numbers(l1)"
   ]
  },
  {
   "cell_type": "code",
   "execution_count": 80,
   "id": "f444fa4c",
   "metadata": {},
   "outputs": [],
   "source": [
    "#Q32 Implement a function to calculate the power of a number using recursion\n",
    "def power(number, power):\n",
    "    if power == 0:\n",
    "        return 1\n",
    "    elif power == 1:\n",
    "        return number\n",
    "    else:\n",
    "        return number * power(number, power - 1)"
   ]
  },
  {
   "cell_type": "code",
   "execution_count": 84,
   "id": "588c001b",
   "metadata": {},
   "outputs": [
    {
     "data": {
      "text/plain": [
       "2"
      ]
     },
     "execution_count": 84,
     "metadata": {},
     "output_type": "execute_result"
    }
   ],
   "source": [
    "power(2,1)"
   ]
  },
  {
   "cell_type": "code",
   "execution_count": 86,
   "id": "3b3c6a07",
   "metadata": {},
   "outputs": [],
   "source": [
    "#Q33  Write a Python program to remove duplicates from a list while preserving the order.\n",
    "def remove_duplicates(list):\n",
    "  seen = set()\n",
    "  new_list = []\n",
    "  for item in list:\n",
    "    if item not in seen:\n",
    "      new_list.append(item)\n",
    "      seen.add(item)\n",
    "  return new_list"
   ]
  },
  {
   "cell_type": "code",
   "execution_count": 87,
   "id": "9deb4fd3",
   "metadata": {},
   "outputs": [
    {
     "data": {
      "text/plain": [
       "[10, 1, 4, 5, 6]"
      ]
     },
     "execution_count": 87,
     "metadata": {},
     "output_type": "execute_result"
    }
   ],
   "source": [
    "list1=[10,1,4,5,6,4,6,1,1]\n",
    "remove_duplicates(list1)"
   ]
  },
  {
   "cell_type": "code",
   "execution_count": 92,
   "id": "225facde",
   "metadata": {},
   "outputs": [],
   "source": [
    "#Q34 implement a function to find the longest common prefix among a list of strings\n",
    "import itertools\n",
    "\n",
    "def longest_common_prefix(list_of_strings):\n",
    "\n",
    "  if not list_of_strings:\n",
    "    return \"\"\n",
    "  else:\n",
    "    prefix = \"\"\n",
    "    for character in itertools.takewhile(lambda x: x == x[0], zip(*list_of_strings)):\n",
    "      prefix += character\n",
    "    return prefix"
   ]
  },
  {
   "cell_type": "code",
   "execution_count": 91,
   "id": "92d93f78",
   "metadata": {},
   "outputs": [
    {
     "data": {
      "text/plain": [
       "''"
      ]
     },
     "execution_count": 91,
     "metadata": {},
     "output_type": "execute_result"
    }
   ],
   "source": [
    "l=[\"hello\", \"helloworld\", \"hellothere\"]\n",
    "longest_common_prefix(l)"
   ]
  },
  {
   "cell_type": "code",
   "execution_count": 93,
   "id": "84a36a2d",
   "metadata": {},
   "outputs": [],
   "source": [
    "#Q35 Write a program to check if a given number is a perfect square.\n",
    "def is_perfect_square(number):\n",
    "  if number < 1:\n",
    "    return False\n",
    "  for i in range(1, int(number ** 0.5) + 1):\n",
    "    if i * i == number:\n",
    "      return True\n",
    "  return False"
   ]
  },
  {
   "cell_type": "code",
   "execution_count": 94,
   "id": "e4f166ee",
   "metadata": {},
   "outputs": [
    {
     "data": {
      "text/plain": [
       "True"
      ]
     },
     "execution_count": 94,
     "metadata": {},
     "output_type": "execute_result"
    }
   ],
   "source": [
    "is_perfect_square(25)"
   ]
  },
  {
   "cell_type": "code",
   "execution_count": 95,
   "id": "fae09afd",
   "metadata": {},
   "outputs": [],
   "source": [
    "#36   Implement a function to calculate the product of all elements in a list.\n",
    "def product_of_elements(list):\n",
    "\n",
    "  product = 1\n",
    "  for element in list:\n",
    "    product *= element\n",
    "  return product"
   ]
  },
  {
   "cell_type": "code",
   "execution_count": 96,
   "id": "2fe67325",
   "metadata": {},
   "outputs": [
    {
     "data": {
      "text/plain": [
       "720"
      ]
     },
     "execution_count": 96,
     "metadata": {},
     "output_type": "execute_result"
    }
   ],
   "source": [
    "l1=[1,2,3,4,5,6]\n",
    "product_of_elements(l1)"
   ]
  },
  {
   "cell_type": "code",
   "execution_count": 97,
   "id": "8a24c522",
   "metadata": {},
   "outputs": [],
   "source": [
    "# Q37 Write a Python program to reverse the order of words in a sentence while preserving the word order.\n",
    "def reverse_words(sentence):\n",
    "  \n",
    "  words = sentence.split()\n",
    "  reversed_words = words[::-1]\n",
    "  reversed_sentence = \" \".join(reversed_words)\n",
    "  return reversed_sentence"
   ]
  },
  {
   "cell_type": "code",
   "execution_count": 98,
   "id": "ce36fbd5",
   "metadata": {},
   "outputs": [
    {
     "data": {
      "text/plain": [
       "'shejole prem myselt hello'"
      ]
     },
     "execution_count": 98,
     "metadata": {},
     "output_type": "execute_result"
    }
   ],
   "source": [
    "reverse_words(\"hello myselt prem shejole\")"
   ]
  },
  {
   "cell_type": "code",
   "execution_count": 99,
   "id": "62d9f6ee",
   "metadata": {},
   "outputs": [],
   "source": [
    " #Q38  Implement a function to find the missing number in a given list of consecutive numbers.\n",
    "   \n",
    "def find_missing_number(list):\n",
    "\n",
    "  first_number = list[0]\n",
    "  last_number = list[-1]\n",
    "  for number in range(first_number, last_number + 1):\n",
    "    if number not in list:\n",
    "      return number\n",
    "  return None\n"
   ]
  },
  {
   "cell_type": "code",
   "execution_count": 106,
   "id": "b8cfe101",
   "metadata": {},
   "outputs": [
    {
     "data": {
      "text/plain": [
       "10"
      ]
     },
     "execution_count": 106,
     "metadata": {},
     "output_type": "execute_result"
    }
   ],
   "source": [
    "find_missing_number(([7,8,9,11,12]))"
   ]
  },
  {
   "cell_type": "code",
   "execution_count": 101,
   "id": "e546e840",
   "metadata": {},
   "outputs": [],
   "source": [
    "#39 Write a program to find the sum of digits of a given number.\n",
    "def sum_of_digits(number):\n",
    "\n",
    "  sum_of_digits = 0\n",
    "  while number > 0:\n",
    "    digit = number % 10\n",
    "    sum_of_digits += digit\n",
    "    number //= 10\n",
    "  return sum_of_digits"
   ]
  },
  {
   "cell_type": "code",
   "execution_count": 102,
   "id": "9a2fc2c9",
   "metadata": {},
   "outputs": [
    {
     "data": {
      "text/plain": [
       "6"
      ]
     },
     "execution_count": 102,
     "metadata": {},
     "output_type": "execute_result"
    }
   ],
   "source": [
    "sum_of_digits(123)\n"
   ]
  },
  {
   "cell_type": "code",
   "execution_count": 103,
   "id": "87161627",
   "metadata": {},
   "outputs": [],
   "source": [
    "#40 Implement a function to check if a given string is a valid palindrome considering case sensitivity.\n",
    "def is_palindrome(string):\n",
    "\n",
    "  reversed_string = \"\"\n",
    "  for character in string:\n",
    "    reversed_string = character + reversed_string\n",
    "  return string == reversed_string"
   ]
  },
  {
   "cell_type": "code",
   "execution_count": 104,
   "id": "aee9374b",
   "metadata": {},
   "outputs": [
    {
     "data": {
      "text/plain": [
       "True"
      ]
     },
     "execution_count": 104,
     "metadata": {},
     "output_type": "execute_result"
    }
   ],
   "source": [
    "is_palindrome(\"maam\")"
   ]
  },
  {
   "cell_type": "code",
   "execution_count": 105,
   "id": "5f9cbb3d",
   "metadata": {},
   "outputs": [],
   "source": [
    "#41 Write a Python program to find the smallest missing positive integer in a list.\n",
    "def find_smallest_missing_positive_integer(list):\n",
    "  \n",
    "  smallest_missing_integer = 1\n",
    "  for number in list:\n",
    "    if number <= 0 or number > len(list):\n",
    "      continue\n",
    "    else:\n",
    "      smallest_missing_integer = max(smallest_missing_integer, number + 1)\n",
    "  return smallest_missing_integer"
   ]
  },
  {
   "cell_type": "code",
   "execution_count": 107,
   "id": "e1d4fc1f",
   "metadata": {},
   "outputs": [
    {
     "data": {
      "text/plain": [
       "7"
      ]
     },
     "execution_count": 107,
     "metadata": {},
     "output_type": "execute_result"
    }
   ],
   "source": [
    "l1=[1,5,2,3,4,6]\n",
    "find_smallest_missing_positive_integer(l1)"
   ]
  },
  {
   "cell_type": "code",
   "execution_count": 108,
   "id": "c07d51c9",
   "metadata": {},
   "outputs": [],
   "source": [
    "#Q42 Implement a function to find the longest palindrome substring in a given string.\n",
    "def longest_palindrome_substring(string):\n",
    "  longest_palindrome = \"\"\n",
    "  for i in range(len(string)):\n",
    "    for j in range(i, len(string)):\n",
    "      if string[i:j + 1] == string[i:j + 1][::-1] and len(string[i:j + 1]) > len(longest_palindrome):\n",
    "        longest_palindrome = string[i:j + 1]\n",
    "  return longest_palindrome"
   ]
  },
  {
   "cell_type": "code",
   "execution_count": 109,
   "id": "0b590c9c",
   "metadata": {},
   "outputs": [
    {
     "name": "stdout",
     "output_type": "stream",
     "text": [
      "bab\n"
     ]
    }
   ],
   "source": [
    "  string = \"babad\"\n",
    "  print(longest_palindrome_substring(string))"
   ]
  },
  {
   "cell_type": "code",
   "execution_count": 110,
   "id": "c0ad702f",
   "metadata": {},
   "outputs": [],
   "source": [
    "#Q43 Write a program to find the number of occurrences of a given element in a list\n",
    "def count_occurrences(list, element):\n",
    "  count = 0\n",
    "  for item in list:\n",
    "    if item == element:\n",
    "      count += 1\n",
    "  return count"
   ]
  },
  {
   "cell_type": "code",
   "execution_count": 111,
   "id": "01ad23a2",
   "metadata": {},
   "outputs": [
    {
     "name": "stdout",
     "output_type": "stream",
     "text": [
      "3\n"
     ]
    }
   ],
   "source": [
    "list = [1, 2, 3, 3, 3, 4, 5, 6, 7]\n",
    "element = 3\n",
    "print(count_occurrences(list, element))"
   ]
  },
  {
   "cell_type": "code",
   "execution_count": 112,
   "id": "c4a3cb67",
   "metadata": {},
   "outputs": [],
   "source": [
    "# Q44 Implement a function to check if a given number is a perfect number.\n",
    "def is_perfect_number(number):\n",
    "\n",
    "  if number < 1:\n",
    "    return False\n",
    "  sum_of_factors = 1\n",
    "  for factor in range(2, int(number ** 0.5) + 1):\n",
    "    if number % factor == 0:\n",
    "      sum_of_factors += factor\n",
    "      if factor * factor == number:\n",
    "        break\n",
    "  return sum_of_factors == number"
   ]
  },
  {
   "cell_type": "code",
   "execution_count": 114,
   "id": "9b393ee8",
   "metadata": {},
   "outputs": [
    {
     "data": {
      "text/plain": [
       "False"
      ]
     },
     "execution_count": 114,
     "metadata": {},
     "output_type": "execute_result"
    }
   ],
   "source": [
    "is_perfect_number(9)\n"
   ]
  },
  {
   "cell_type": "code",
   "execution_count": 115,
   "id": "f5e94a5f",
   "metadata": {},
   "outputs": [],
   "source": [
    "#Q46 Implement a function to find the first missing positive\n",
    "def find_first_missing_positive(list):\n",
    "\n",
    "  for index, number in enumerate(list):\n",
    "    if number <= 0 or number > len(list):\n",
    "      continue\n",
    "    else:\n",
    "      if list[number - 1] != number:\n",
    "        return number\n",
    "  return len(list) + 1"
   ]
  },
  {
   "cell_type": "code",
   "execution_count": 116,
   "id": "7ee50035",
   "metadata": {},
   "outputs": [
    {
     "name": "stdout",
     "output_type": "stream",
     "text": [
      "1\n"
     ]
    }
   ],
   "source": [
    "list = [-1, 1, 3, 5, 7]\n",
    "print(find_first_missing_positive(list)) "
   ]
  },
  {
   "cell_type": "code",
   "execution_count": null,
   "id": "2d5866f1",
   "metadata": {},
   "outputs": [],
   "source": []
  }
 ],
 "metadata": {
  "kernelspec": {
   "display_name": "Python 3 (ipykernel)",
   "language": "python",
   "name": "python3"
  },
  "language_info": {
   "codemirror_mode": {
    "name": "ipython",
    "version": 3
   },
   "file_extension": ".py",
   "mimetype": "text/x-python",
   "name": "python",
   "nbconvert_exporter": "python",
   "pygments_lexer": "ipython3",
   "version": "3.10.7"
  }
 },
 "nbformat": 4,
 "nbformat_minor": 5
}
